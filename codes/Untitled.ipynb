{
 "cells": [
  {
   "cell_type": "code",
   "execution_count": 6,
   "id": "f8ac9985-157c-432f-85bd-3025e57bc348",
   "metadata": {},
   "outputs": [],
   "source": [
    "import pandas as pd\n",
    "import numpy as np"
   ]
  },
  {
   "cell_type": "code",
   "execution_count": 12,
   "id": "ee5698cd-5207-4fc1-8aec-3e4cfb72ec62",
   "metadata": {},
   "outputs": [],
   "source": [
    "data = {\n",
    "    'Column1': ['D3', 'A5', 'A6', 'D3', 'A5', 'D3'],\n",
    "    'Column2': ['D3', 'A5', 'A6', 'D3', 'A5', 'D3']\n",
    "}\n",
    "\n",
    "df = pd.DataFrame(data)"
   ]
  },
  {
   "cell_type": "code",
   "execution_count": 13,
   "id": "968b22f0-090a-44d8-aedb-1d0cf0b40058",
   "metadata": {},
   "outputs": [],
   "source": [
    "new_dfs = {}"
   ]
  },
  {
   "cell_type": "code",
   "execution_count": 15,
   "id": "5ba489a7-905a-4bc3-ab6c-7f93c380b8ee",
   "metadata": {},
   "outputs": [],
   "source": [
    "dist = 238\n",
    "column_name = 'Column1'\n",
    "cls = ['D3']\n",
    "df[column_name] = df[column_name].apply(lambda x: np.nan if x not in cls else x)\n",
    "new_dfs[dist] = df"
   ]
  },
  {
   "cell_type": "code",
   "execution_count": 16,
   "id": "f196fe3f-bb39-48e0-bfe2-701b6cac24da",
   "metadata": {},
   "outputs": [
    {
     "data": {
      "text/html": [
       "<div>\n",
       "<style scoped>\n",
       "    .dataframe tbody tr th:only-of-type {\n",
       "        vertical-align: middle;\n",
       "    }\n",
       "\n",
       "    .dataframe tbody tr th {\n",
       "        vertical-align: top;\n",
       "    }\n",
       "\n",
       "    .dataframe thead th {\n",
       "        text-align: right;\n",
       "    }\n",
       "</style>\n",
       "<table border=\"1\" class=\"dataframe\">\n",
       "  <thead>\n",
       "    <tr style=\"text-align: right;\">\n",
       "      <th></th>\n",
       "      <th>Column1</th>\n",
       "      <th>Column2</th>\n",
       "    </tr>\n",
       "  </thead>\n",
       "  <tbody>\n",
       "    <tr>\n",
       "      <th>0</th>\n",
       "      <td>D3</td>\n",
       "      <td>D3</td>\n",
       "    </tr>\n",
       "    <tr>\n",
       "      <th>1</th>\n",
       "      <td>NaN</td>\n",
       "      <td>A5</td>\n",
       "    </tr>\n",
       "    <tr>\n",
       "      <th>2</th>\n",
       "      <td>NaN</td>\n",
       "      <td>A6</td>\n",
       "    </tr>\n",
       "    <tr>\n",
       "      <th>3</th>\n",
       "      <td>D3</td>\n",
       "      <td>D3</td>\n",
       "    </tr>\n",
       "    <tr>\n",
       "      <th>4</th>\n",
       "      <td>NaN</td>\n",
       "      <td>A5</td>\n",
       "    </tr>\n",
       "  </tbody>\n",
       "</table>\n",
       "</div>"
      ],
      "text/plain": [
       "  Column1 Column2\n",
       "0      D3      D3\n",
       "1     NaN      A5\n",
       "2     NaN      A6\n",
       "3      D3      D3\n",
       "4     NaN      A5"
      ]
     },
     "execution_count": 16,
     "metadata": {},
     "output_type": "execute_result"
    }
   ],
   "source": [
    "df.head()"
   ]
  },
  {
   "cell_type": "code",
   "execution_count": 17,
   "id": "3387b2c4-5289-441e-a69a-2d8588392dd8",
   "metadata": {},
   "outputs": [
    {
     "data": {
      "text/plain": [
       "{238:   Column1 Column2\n",
       " 0      D3      D3\n",
       " 1     NaN      A5\n",
       " 2     NaN      A6\n",
       " 3      D3      D3\n",
       " 4     NaN      A5\n",
       " 5      D3      D3}"
      ]
     },
     "execution_count": 17,
     "metadata": {},
     "output_type": "execute_result"
    }
   ],
   "source": [
    "new_dfs"
   ]
  },
  {
   "cell_type": "code",
   "execution_count": null,
   "id": "fdc6852b-aeea-467a-8dd3-5e3a69bbe5a5",
   "metadata": {},
   "outputs": [],
   "source": []
  }
 ],
 "metadata": {
  "kernelspec": {
   "display_name": "Python 3 (ipykernel)",
   "language": "python",
   "name": "python3"
  },
  "language_info": {
   "codemirror_mode": {
    "name": "ipython",
    "version": 3
   },
   "file_extension": ".py",
   "mimetype": "text/x-python",
   "name": "python",
   "nbconvert_exporter": "python",
   "pygments_lexer": "ipython3",
   "version": "3.12.4"
  }
 },
 "nbformat": 4,
 "nbformat_minor": 5
}
